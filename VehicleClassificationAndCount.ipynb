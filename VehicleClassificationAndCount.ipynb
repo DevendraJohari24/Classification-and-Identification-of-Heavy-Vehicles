{
 "cells": [
  {
   "cell_type": "code",
   "execution_count": null,
   "id": "a1467d62",
   "metadata": {},
   "outputs": [],
   "source": []
  },
  {
   "cell_type": "code",
   "execution_count": 1,
   "id": "8fd9fdfb",
   "metadata": {},
   "outputs": [],
   "source": [
    "# -------------------------------------- Tracker Part --------------------------------------------------- #"
   ]
  },
  {
   "cell_type": "code",
   "execution_count": 2,
   "id": "d343ebd1",
   "metadata": {},
   "outputs": [],
   "source": [
    "import math\n",
    "import cv2\n",
    "import csv\n",
    "import collections\n",
    "import numpy as np"
   ]
  },
  {
   "cell_type": "code",
   "execution_count": 3,
   "id": "82b16cff",
   "metadata": {},
   "outputs": [],
   "source": [
    "class EuclideanDistTracker:\n",
    "    def __init__(self):\n",
    "        # Store the center positions of the objects\n",
    "        self.center_points = {}\n",
    "        # Keep the count of the IDs\n",
    "        # each time a new object id detected, the count will increase by one\n",
    "        self.id_count = 0\n",
    "    def update(self, objects_rect):\n",
    "        # Objects boxes and ids\n",
    "        objects_bbs_ids = []\n",
    "        # Get center point of new object\n",
    "        for rect in objects_rect:\n",
    "            x, y, w, h, index = rect\n",
    "            cx = (x + x + w) // 2\n",
    "            cy = (y + y + h) // 2\n",
    "\n",
    "            # Find out if that object was detected already\n",
    "            same_object_detected = False\n",
    "            for id, pt in self.center_points.items():\n",
    "                dist = math.hypot(cx - pt[0], cy - pt[1])\n",
    "\n",
    "                if dist < 25:\n",
    "                    self.center_points[id] = (cx, cy)\n",
    "                    # print(self.center_points)\n",
    "                    objects_bbs_ids.append([x, y, w, h, id, index])\n",
    "                    same_object_detected = True\n",
    "                    break\n",
    "\n",
    "            # New object is detected we assign the ID to that object\n",
    "            if same_object_detected is False:\n",
    "                self.center_points[self.id_count] = (cx, cy)\n",
    "                objects_bbs_ids.append([x, y, w, h, self.id_count, index])\n",
    "                self.id_count += 1\n",
    "\n",
    "        # Clean the dictionary by center points to remove IDS not used anymore\n",
    "        new_center_points = {}\n",
    "        for obj_bb_id in objects_bbs_ids:\n",
    "            _, _, _, _, object_id, index = obj_bb_id\n",
    "            center = self.center_points[object_id]\n",
    "            new_center_points[object_id] = center\n",
    "\n",
    "        # Update dictionary with IDs not used removed\n",
    "        self.center_points = new_center_points.copy()\n",
    "        return objects_bbs_ids"
   ]
  },
  {
   "cell_type": "code",
   "execution_count": 4,
   "id": "23c161fd",
   "metadata": {},
   "outputs": [],
   "source": [
    "def ad(a, b):\n",
    "    return a+b"
   ]
  },
  {
   "cell_type": "code",
   "execution_count": 5,
   "id": "5f2d6d6a",
   "metadata": {},
   "outputs": [],
   "source": [
    "# --------------------------------------- Detection Part--------------------------------------------"
   ]
  },
  {
   "cell_type": "code",
   "execution_count": 6,
   "id": "695e7da3",
   "metadata": {},
   "outputs": [],
   "source": [
    "# Initialize Tracker\n",
    "tracker = EuclideanDistTracker()"
   ]
  },
  {
   "cell_type": "code",
   "execution_count": 7,
   "id": "f2e8ef5e",
   "metadata": {},
   "outputs": [],
   "source": [
    "# Initialize the videocapture object\n",
    "input_size = 320"
   ]
  },
  {
   "cell_type": "code",
   "execution_count": 8,
   "id": "2e8c187b",
   "metadata": {},
   "outputs": [],
   "source": [
    "# Detection confidence threshold\n",
    "confThreshold =0.2\n",
    "nmsThreshold= 0.2"
   ]
  },
  {
   "cell_type": "code",
   "execution_count": 9,
   "id": "a8b03667",
   "metadata": {},
   "outputs": [],
   "source": [
    "font_color = (0, 0, 255)\n",
    "font_size = 0.5\n",
    "font_thickness = 2"
   ]
  },
  {
   "cell_type": "code",
   "execution_count": null,
   "id": "54999659",
   "metadata": {},
   "outputs": [],
   "source": []
  },
  {
   "cell_type": "code",
   "execution_count": 10,
   "id": "3bc66c0d",
   "metadata": {},
   "outputs": [
    {
     "name": "stdout",
     "output_type": "stream",
     "text": [
      "['person', 'bicycle', 'car', 'motorbike', 'aeroplane', 'bus', 'train', 'truck', 'boat', 'traffic light', 'fire hydrant', 'stop sign', 'parking meter', 'bench', 'bird', 'cat', 'dog', 'horse', 'sheep', 'cow', 'elephant', 'bear', 'zebra', 'giraffe', 'backpack', 'umbrella', 'handbag', 'tie', 'suitcase', 'frisbee', 'skis', 'snowboard', 'sports ball', 'kite', 'baseball bat', 'baseball glove', 'skateboard', 'surfboard', 'tennis racket', 'bottle', 'wine glass', 'cup', 'fork', 'knife', 'spoon', 'bowl', 'banana', 'apple', 'sandwich', 'orange', 'broccoli', 'carrot', 'hot dog', 'pizza', 'donut', 'cake', 'chair', 'sofa', 'pottedplant', 'bed', 'diningtable', 'toilet', 'tvmonitor', 'laptop', 'mouse', 'remote', 'keyboard', 'cell phone', 'microwave', 'oven', 'toaster', 'sink', 'refrigerator', 'book', 'clock', 'vase', 'scissors', 'teddy bear', 'hair drier', 'toothbrush']\n",
      "80\n"
     ]
    }
   ],
   "source": [
    "# Store Coco Names in a list\n",
    "classesFile = \"coco.names\"\n",
    "classNames = open(classesFile).read().strip().split('\\n')\n",
    "print(classNames)\n",
    "print(len(classNames))"
   ]
  },
  {
   "cell_type": "code",
   "execution_count": 11,
   "id": "69e4554a",
   "metadata": {},
   "outputs": [],
   "source": [
    "# class index for our required detection classes\n",
    "# required_class_index = [2, 3, 5, 7]\n",
    "required_class_index = [2, 3, 5, 7, 0]\n",
    "\n",
    "detected_classNames = []"
   ]
  },
  {
   "cell_type": "code",
   "execution_count": 12,
   "id": "b85d037b",
   "metadata": {},
   "outputs": [],
   "source": [
    "## Model Files\n",
    "modelConfiguration = 'yolov3-320.cfg'\n",
    "modelWeigheights = 'yolov3-320.weights'"
   ]
  },
  {
   "cell_type": "code",
   "execution_count": 13,
   "id": "3b038bd1",
   "metadata": {},
   "outputs": [],
   "source": [
    "# configure the network model\n",
    "net = cv2.dnn.readNetFromDarknet(modelConfiguration, modelWeigheights)"
   ]
  },
  {
   "cell_type": "code",
   "execution_count": 14,
   "id": "20b5737f",
   "metadata": {},
   "outputs": [],
   "source": [
    "# Configure the network backend\n",
    "net.setPreferableBackend(cv2.dnn.DNN_BACKEND_CUDA)\n",
    "net.setPreferableTarget(cv2.dnn.DNN_TARGET_CUDA)"
   ]
  },
  {
   "cell_type": "code",
   "execution_count": 15,
   "id": "5acb3666",
   "metadata": {},
   "outputs": [],
   "source": [
    "# Define random colour for each class\n",
    "np.random.seed(42)\n",
    "colors = np.random.randint(0, 255, size=(len(classNames), 3), dtype='uint8')"
   ]
  },
  {
   "cell_type": "code",
   "execution_count": 16,
   "id": "41e32001",
   "metadata": {},
   "outputs": [],
   "source": [
    "# Function for finding the center of a rectangle\n",
    "def find_center(x, y, w, h):\n",
    "    x1=int(w/2)\n",
    "    y1=int(h/2)\n",
    "    cx = x+x1\n",
    "    cy=y+y1\n",
    "    return cx, cy"
   ]
  },
  {
   "cell_type": "code",
   "execution_count": 17,
   "id": "9cb98711",
   "metadata": {},
   "outputs": [],
   "source": [
    "# List for store vehicle count information\n",
    "temp_up_list = []\n",
    "temp_down_list = []\n",
    "up_list = [0, 0, 0, 0, 0]\n",
    "down_list = [0, 0, 0, 0, 0]"
   ]
  },
  {
   "cell_type": "code",
   "execution_count": 18,
   "id": "29364fbb",
   "metadata": {},
   "outputs": [],
   "source": [
    "# Function for count vehicle\n",
    "def count_vehicle(box_id, img):\n",
    "    x, y, w, h, id, index = box_id\n",
    "\n",
    "    # Find the center of the rectangle for detection\n",
    "    center = find_center(x, y, w, h)\n",
    "    ix, iy = center\n",
    "    \n",
    "    # Find the current position of the vehicle\n",
    "    if (iy > up_line_position) and (iy < middle_line_position):\n",
    "\n",
    "        if id not in temp_up_list:\n",
    "            temp_up_list.append(id)\n",
    "\n",
    "    elif iy < down_line_position and iy > middle_line_position:\n",
    "        if id not in temp_down_list:\n",
    "            temp_down_list.append(id)\n",
    "            \n",
    "    elif iy < up_line_position:\n",
    "        if id in temp_down_list:\n",
    "            temp_down_list.remove(id)\n",
    "            up_list[index] = up_list[index]+1\n",
    "\n",
    "    elif iy > down_line_position:\n",
    "        if id in temp_up_list:\n",
    "            temp_up_list.remove(id)\n",
    "            down_list[index] = down_list[index] + 1\n",
    "\n",
    "    # Draw circle in the middle of the rectangle\n",
    "    #cv2.circle(img, center, 2, (0, 0, 255), -1)  # end here"
   ]
  },
  {
   "cell_type": "code",
   "execution_count": 19,
   "id": "67df6232",
   "metadata": {},
   "outputs": [],
   "source": [
    "# Function for finding the detected objects from the network output\n",
    "def postProcess(outputs,img):\n",
    "    global detected_classNames \n",
    "    height, width = img.shape[:2]\n",
    "    boxes = []\n",
    "    classIds = []\n",
    "    confidence_scores = []\n",
    "    detection = []\n",
    "    for output in outputs:\n",
    "        for det in output:\n",
    "            scores = det[5:]\n",
    "            classId = np.argmax(scores)\n",
    "            confidence = scores[classId]\n",
    "            if classId in required_class_index:\n",
    "                if confidence > confThreshold:\n",
    "                    w,h = int(det[2]*width) , int(det[3]*height)\n",
    "                    x,y = int((det[0]*width)-w/2) , int((det[1]*height)-h/2)\n",
    "                    boxes.append([x,y,w,h])\n",
    "                    classIds.append(classId)\n",
    "                    confidence_scores.append(float(confidence))\n",
    "\n",
    "    # Apply Non-Max Suppression\n",
    "    indices = cv2.dnn.NMSBoxes(boxes, confidence_scores, confThreshold, nmsThreshold)\n",
    "    for i in indices.flatten():\n",
    "        x, y, w, h = boxes[i][0], boxes[i][1], boxes[i][2], boxes[i][3]\n",
    "        color = [int(c) for c in colors[classIds[i]]]\n",
    "        name = classNames[classIds[i]]\n",
    "        detected_classNames.append(name)\n",
    "        # Draw classname and confidence score \n",
    "        cv2.putText(img,f'{name.upper()}',\n",
    "                  (x, y-10), cv2.FONT_HERSHEY_SIMPLEX, 0.5, color, 1)\n",
    "        # Draw bounding rectangle\n",
    "        cv2.rectangle(img, (x, y), (x + w, y + h), color, 1)\n",
    "        detection.append([x, y, w, h, required_class_index.index(classIds[i])])\n",
    "\n",
    "    # Update the tracker for each object\n",
    "    boxes_ids = tracker.update(detection)\n",
    "    for box_id in boxes_ids:\n",
    "        count_vehicle(box_id, img)\n"
   ]
  },
  {
   "cell_type": "code",
   "execution_count": 20,
   "id": "acdff322",
   "metadata": {},
   "outputs": [],
   "source": [
    "# Middle cross line position\n",
    "middle_line_position = 225   \n",
    "up_line_position = middle_line_position - 25\n",
    "down_line_position = middle_line_position + 25"
   ]
  },
  {
   "cell_type": "code",
   "execution_count": 21,
   "id": "3ce938ed",
   "metadata": {},
   "outputs": [],
   "source": [
    "cap = cv2.VideoCapture('video.mp4')\n",
    "while True:\n",
    "        success, img = cap.read()\n",
    "        img = cv2.resize(img,(0,0),None,0.5,0.5)\n",
    "        ih, iw, channels = img.shape\n",
    "        blob = cv2.dnn.blobFromImage(img, 1 / 255, (input_size, input_size), [0, 0, 0], 1, crop=False)\n",
    "\n",
    "        # Set the input of the network\n",
    "        net.setInput(blob)\n",
    "        layersNames = net.getLayerNames()\n",
    "        outputNames = [(layersNames[i - 1]) for i in net.getUnconnectedOutLayers()]\n",
    "        # Feed data to the network\n",
    "        outputs = net.forward(outputNames)\n",
    "    \n",
    "        # Find the objects from the network output\n",
    "        postProcess(outputs,img)\n",
    "\n",
    "        # Draw the crossing lines\n",
    "\n",
    "        cv2.line(img, (0, middle_line_position), (iw, middle_line_position), (255, 0, 255), 2)\n",
    "        cv2.line(img, (0, up_line_position), (iw, up_line_position), (0, 0, 255), 2)\n",
    "        cv2.line(img, (0, down_line_position), (iw, down_line_position), (0, 0, 255), 2)\n",
    "\n",
    "        # Draw counting texts in the frame\n",
    "        cv2.putText(img, \"Up\", (110, 20), cv2.FONT_HERSHEY_SIMPLEX, font_size, font_color, font_thickness)\n",
    "        cv2.putText(img, \"Down\", (160, 20), cv2.FONT_HERSHEY_SIMPLEX, font_size, font_color, font_thickness)\n",
    "        cv2.putText(img, \"Car:        \"+str(up_list[0])+\"     \"+ str(down_list[0]), (20, 40), cv2.FONT_HERSHEY_SIMPLEX, font_size, font_color, font_thickness)\n",
    "        cv2.putText(img, \"Motorbike:  \"+str(up_list[1])+\"     \"+ str(down_list[1]), (20, 60), cv2.FONT_HERSHEY_SIMPLEX, font_size, font_color, font_thickness)\n",
    "        cv2.putText(img, \"Bus:        \"+str(up_list[2])+\"     \"+ str(down_list[2]), (20, 80), cv2.FONT_HERSHEY_SIMPLEX, font_size, font_color, font_thickness)\n",
    "        cv2.putText(img, \"Truck:      \"+str(up_list[3])+\"     \"+ str(down_list[3]), (20, 100), cv2.FONT_HERSHEY_SIMPLEX, font_size, font_color, font_thickness)\n",
    "        cv2.putText(img, \"Person:     \"+str(up_list[4])+\"     \"+ str(down_list[4]), (20, 120), cv2.FONT_HERSHEY_SIMPLEX, font_size, font_color, font_thickness)\n",
    "\n",
    "        \n",
    "        # Show the frames\n",
    "        cv2.imshow('Output', img)\n",
    "\n",
    "        if cv2.waitKey(1) == ord('q'):\n",
    "            break\n",
    "\n",
    "# Write the vehicle counting information in a file and save it\n",
    "with open(\"data.csv\", 'w') as f1:\n",
    "    cwriter = csv.writer(f1)\n",
    "    cwriter.writerow(['Direction', 'car', 'motorbike', 'bus', 'truck', 'person'])\n",
    "    up_list.insert(0, \"Up\")\n",
    "    down_list.insert(0, \"Down\")\n",
    "    cwriter.writerow(up_list)\n",
    "    cwriter.writerow(down_list)\n",
    "f1.close()\n",
    "# print(\"Data saved at 'data.csv'\")\n",
    "# Finally realese the capture object and destroy all active windows\n",
    "cap.release()\n",
    "cv2.destroyAllWindows()"
   ]
  },
  {
   "cell_type": "code",
   "execution_count": null,
   "id": "12e1e349",
   "metadata": {},
   "outputs": [],
   "source": []
  },
  {
   "cell_type": "code",
   "execution_count": null,
   "id": "4873f5d0",
   "metadata": {},
   "outputs": [],
   "source": []
  },
  {
   "cell_type": "code",
   "execution_count": null,
   "id": "c275e525",
   "metadata": {},
   "outputs": [],
   "source": []
  },
  {
   "cell_type": "code",
   "execution_count": null,
   "id": "1c1dc65f",
   "metadata": {},
   "outputs": [],
   "source": []
  },
  {
   "cell_type": "code",
   "execution_count": null,
   "id": "05eb8274",
   "metadata": {},
   "outputs": [],
   "source": []
  },
  {
   "cell_type": "code",
   "execution_count": null,
   "id": "5b27b5d9",
   "metadata": {},
   "outputs": [],
   "source": []
  },
  {
   "cell_type": "code",
   "execution_count": 21,
   "id": "45e5f831",
   "metadata": {},
   "outputs": [],
   "source": [
    "# image_file = 'vehicle classification-image02.png'\n",
    "# def from_static_image(image):\n",
    "#     img = cv2.imread(image)\n",
    "\n",
    "#     blob = cv2.dnn.blobFromImage(img, 1 / 255, (input_size, input_size), [0, 0, 0], 1, crop=False)\n",
    "\n",
    "#     # Set the input of the network\n",
    "#     net.setInput(blob)\n",
    "#     layersNames = net.getLayerNames()\n",
    "#     outputNames = [(layersNames[i[0] - 1]) for i in net.getUnconnectedOutLayers()]\n",
    "#     # Feed data to the network\n",
    "#     outputs = net.forward(outputNames)\n",
    "\n",
    "#     # Find the objects from the network output\n",
    "#     postProcess(outputs,img)\n",
    "\n",
    "#     # count the frequency of detected classes\n",
    "#     frequency = collections.Counter(detected_classNames)\n",
    "#     print(frequency)\n",
    "#     # Draw counting texts in the frame\n",
    "#     cv2.putText(img, \"Car:        \"+str(frequency['car']), (20, 40), cv2.FONT_HERSHEY_SIMPLEX, font_size, font_color, font_thickness)\n",
    "#     cv2.putText(img, \"Motorbike:  \"+str(frequency['motorbike']), (20, 60), cv2.FONT_HERSHEY_SIMPLEX, font_size, font_color, font_thickness)\n",
    "#     cv2.putText(img, \"Bus:        \"+str(frequency['bus']), (20, 80), cv2.FONT_HERSHEY_SIMPLEX, font_size, font_color, font_thickness)\n",
    "#     cv2.putText(img, \"Truck:      \"+str(frequency['truck']), (20, 100), cv2.FONT_HERSHEY_SIMPLEX, font_size, font_color, font_thickness)\n",
    "\n",
    "\n",
    "#     cv2.imshow(\"image\", img)\n",
    "\n",
    "#     cv2.waitKey(0)\n",
    "\n",
    "#     # save the data to a csv file\n",
    "#     with open(\"static-data.csv\", 'a') as f1:\n",
    "#         cwriter = csv.writer(f1)\n",
    "#         cwriter.writerow([image, frequency['car'], frequency['motorbike'], frequency['bus'], frequency['truck']])\n",
    "#     f1.close()"
   ]
  }
 ],
 "metadata": {
  "kernelspec": {
   "display_name": "Python 3 (ipykernel)",
   "language": "python",
   "name": "python3"
  },
  "language_info": {
   "codemirror_mode": {
    "name": "ipython",
    "version": 3
   },
   "file_extension": ".py",
   "mimetype": "text/x-python",
   "name": "python",
   "nbconvert_exporter": "python",
   "pygments_lexer": "ipython3",
   "version": "3.9.12"
  }
 },
 "nbformat": 4,
 "nbformat_minor": 5
}
